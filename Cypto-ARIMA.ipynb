{
 "cells": [
  {
   "cell_type": "markdown",
   "metadata": {},
   "source": [
    "importing pakcages"
   ]
  },
  {
   "cell_type": "code",
   "execution_count": 6,
   "metadata": {},
   "outputs": [],
   "source": [
    "import pandas as pd\n",
    "import numpy as np\n",
    "import matplotlib.pyplot as plt\n",
    "import seaborn as sns\n",
    "from datetime import datetime, timedelta\n",
    "\n",
    "import warnings\n",
    "warnings.filterwarnings('ignore')\n",
    "\n",
    "import matplotlib.dates as mdates\n",
    "import finplot"
   ]
  },
  {
   "cell_type": "markdown",
   "metadata": {},
   "source": [
    "importing data (currently using a premade csv file as a proof of concept will implement live data acquisition)"
   ]
  },
  {
   "cell_type": "code",
   "execution_count": 7,
   "metadata": {},
   "outputs": [
    {
     "data": {
      "text/html": [
       "<div>\n",
       "<style scoped>\n",
       "    .dataframe tbody tr th:only-of-type {\n",
       "        vertical-align: middle;\n",
       "    }\n",
       "\n",
       "    .dataframe tbody tr th {\n",
       "        vertical-align: top;\n",
       "    }\n",
       "\n",
       "    .dataframe thead th {\n",
       "        text-align: right;\n",
       "    }\n",
       "</style>\n",
       "<table border=\"1\" class=\"dataframe\">\n",
       "  <thead>\n",
       "    <tr style=\"text-align: right;\">\n",
       "      <th></th>\n",
       "      <th>slug</th>\n",
       "      <th>symbol</th>\n",
       "      <th>name</th>\n",
       "      <th>date</th>\n",
       "      <th>ranknow</th>\n",
       "      <th>open</th>\n",
       "      <th>high</th>\n",
       "      <th>low</th>\n",
       "      <th>close</th>\n",
       "      <th>volume</th>\n",
       "      <th>market</th>\n",
       "      <th>close_ratio</th>\n",
       "      <th>spread</th>\n",
       "    </tr>\n",
       "  </thead>\n",
       "  <tbody>\n",
       "    <tr>\n",
       "      <th>0</th>\n",
       "      <td>bitcoin</td>\n",
       "      <td>BTC</td>\n",
       "      <td>Bitcoin</td>\n",
       "      <td>2013-04-28</td>\n",
       "      <td>1</td>\n",
       "      <td>135.30</td>\n",
       "      <td>135.98</td>\n",
       "      <td>132.10</td>\n",
       "      <td>134.21</td>\n",
       "      <td>0</td>\n",
       "      <td>1500520000</td>\n",
       "      <td>0.5438</td>\n",
       "      <td>3.88</td>\n",
       "    </tr>\n",
       "    <tr>\n",
       "      <th>1</th>\n",
       "      <td>bitcoin</td>\n",
       "      <td>BTC</td>\n",
       "      <td>Bitcoin</td>\n",
       "      <td>2013-04-29</td>\n",
       "      <td>1</td>\n",
       "      <td>134.44</td>\n",
       "      <td>147.49</td>\n",
       "      <td>134.00</td>\n",
       "      <td>144.54</td>\n",
       "      <td>0</td>\n",
       "      <td>1491160000</td>\n",
       "      <td>0.7813</td>\n",
       "      <td>13.49</td>\n",
       "    </tr>\n",
       "    <tr>\n",
       "      <th>2</th>\n",
       "      <td>bitcoin</td>\n",
       "      <td>BTC</td>\n",
       "      <td>Bitcoin</td>\n",
       "      <td>2013-04-30</td>\n",
       "      <td>1</td>\n",
       "      <td>144.00</td>\n",
       "      <td>146.93</td>\n",
       "      <td>134.05</td>\n",
       "      <td>139.00</td>\n",
       "      <td>0</td>\n",
       "      <td>1597780000</td>\n",
       "      <td>0.3843</td>\n",
       "      <td>12.88</td>\n",
       "    </tr>\n",
       "    <tr>\n",
       "      <th>3</th>\n",
       "      <td>bitcoin</td>\n",
       "      <td>BTC</td>\n",
       "      <td>Bitcoin</td>\n",
       "      <td>2013-05-01</td>\n",
       "      <td>1</td>\n",
       "      <td>139.00</td>\n",
       "      <td>139.89</td>\n",
       "      <td>107.72</td>\n",
       "      <td>116.99</td>\n",
       "      <td>0</td>\n",
       "      <td>1542820000</td>\n",
       "      <td>0.2882</td>\n",
       "      <td>32.17</td>\n",
       "    </tr>\n",
       "    <tr>\n",
       "      <th>4</th>\n",
       "      <td>bitcoin</td>\n",
       "      <td>BTC</td>\n",
       "      <td>Bitcoin</td>\n",
       "      <td>2013-05-02</td>\n",
       "      <td>1</td>\n",
       "      <td>116.38</td>\n",
       "      <td>125.60</td>\n",
       "      <td>92.28</td>\n",
       "      <td>105.21</td>\n",
       "      <td>0</td>\n",
       "      <td>1292190000</td>\n",
       "      <td>0.3881</td>\n",
       "      <td>33.32</td>\n",
       "    </tr>\n",
       "  </tbody>\n",
       "</table>\n",
       "</div>"
      ],
      "text/plain": [
       "      slug symbol     name        date  ranknow    open    high     low  \\\n",
       "0  bitcoin    BTC  Bitcoin  2013-04-28        1  135.30  135.98  132.10   \n",
       "1  bitcoin    BTC  Bitcoin  2013-04-29        1  134.44  147.49  134.00   \n",
       "2  bitcoin    BTC  Bitcoin  2013-04-30        1  144.00  146.93  134.05   \n",
       "3  bitcoin    BTC  Bitcoin  2013-05-01        1  139.00  139.89  107.72   \n",
       "4  bitcoin    BTC  Bitcoin  2013-05-02        1  116.38  125.60   92.28   \n",
       "\n",
       "    close  volume      market  close_ratio  spread  \n",
       "0  134.21       0  1500520000       0.5438    3.88  \n",
       "1  144.54       0  1491160000       0.7813   13.49  \n",
       "2  139.00       0  1597780000       0.3843   12.88  \n",
       "3  116.99       0  1542820000       0.2882   32.17  \n",
       "4  105.21       0  1292190000       0.3881   33.32  "
      ]
     },
     "execution_count": 7,
     "metadata": {},
     "output_type": "execute_result"
    }
   ],
   "source": [
    "df = pd.read_csv('crypto-markets.csv')\n",
    "#df.info()\n",
    "df.head()"
   ]
  },
  {
   "cell_type": "markdown",
   "metadata": {},
   "source": [
    "Transforming date to date object"
   ]
  },
  {
   "cell_type": "code",
   "execution_count": 8,
   "metadata": {},
   "outputs": [],
   "source": [
    "\n",
    "df['date'] = pd.to_datetime(df['date'], format='%Y-%m-%d')\n"
   ]
  },
  {
   "cell_type": "markdown",
   "metadata": {},
   "source": [
    "Getting a dataframe containing only the latest date's data for each currency\n"
   ]
  },
  {
   "cell_type": "code",
   "execution_count": 9,
   "metadata": {},
   "outputs": [
    {
     "name": "stdout",
     "output_type": "stream",
     "text": [
      "Latest crypto data\n"
     ]
    },
    {
     "data": {
      "text/html": [
       "<div>\n",
       "<style scoped>\n",
       "    .dataframe tbody tr th:only-of-type {\n",
       "        vertical-align: middle;\n",
       "    }\n",
       "\n",
       "    .dataframe tbody tr th {\n",
       "        vertical-align: top;\n",
       "    }\n",
       "\n",
       "    .dataframe thead th {\n",
       "        text-align: right;\n",
       "    }\n",
       "</style>\n",
       "<table border=\"1\" class=\"dataframe\">\n",
       "  <thead>\n",
       "    <tr style=\"text-align: right;\">\n",
       "      <th></th>\n",
       "      <th>slug</th>\n",
       "      <th>symbol</th>\n",
       "      <th>name</th>\n",
       "      <th>date</th>\n",
       "      <th>ranknow</th>\n",
       "      <th>open</th>\n",
       "      <th>high</th>\n",
       "      <th>low</th>\n",
       "      <th>close</th>\n",
       "      <th>volume</th>\n",
       "      <th>market</th>\n",
       "      <th>close_ratio</th>\n",
       "      <th>spread</th>\n",
       "    </tr>\n",
       "  </thead>\n",
       "  <tbody>\n",
       "    <tr>\n",
       "      <th>1744</th>\n",
       "      <td>bitcoin</td>\n",
       "      <td>BTC</td>\n",
       "      <td>Bitcoin</td>\n",
       "      <td>2018-02-05</td>\n",
       "      <td>1</td>\n",
       "      <td>8270.540000</td>\n",
       "      <td>8364.840000</td>\n",
       "      <td>6756.680000</td>\n",
       "      <td>6955.270000</td>\n",
       "      <td>9285290000</td>\n",
       "      <td>139325000000</td>\n",
       "      <td>0.1235</td>\n",
       "      <td>1608.16</td>\n",
       "    </tr>\n",
       "    <tr>\n",
       "      <th>2658</th>\n",
       "      <td>ethereum</td>\n",
       "      <td>ETH</td>\n",
       "      <td>Ethereum</td>\n",
       "      <td>2018-02-05</td>\n",
       "      <td>2</td>\n",
       "      <td>834.960000</td>\n",
       "      <td>856.650000</td>\n",
       "      <td>644.600000</td>\n",
       "      <td>697.950000</td>\n",
       "      <td>4269530000</td>\n",
       "      <td>81337400000</td>\n",
       "      <td>0.2516</td>\n",
       "      <td>212.05</td>\n",
       "    </tr>\n",
       "    <tr>\n",
       "      <th>4305</th>\n",
       "      <td>ripple</td>\n",
       "      <td>XRP</td>\n",
       "      <td>Ripple</td>\n",
       "      <td>2018-02-05</td>\n",
       "      <td>3</td>\n",
       "      <td>0.825943</td>\n",
       "      <td>0.833866</td>\n",
       "      <td>0.675827</td>\n",
       "      <td>0.691799</td>\n",
       "      <td>1286180000</td>\n",
       "      <td>32219400000</td>\n",
       "      <td>0.1011</td>\n",
       "      <td>0.16</td>\n",
       "    </tr>\n",
       "    <tr>\n",
       "      <th>4503</th>\n",
       "      <td>bitcoin-cash</td>\n",
       "      <td>BCH</td>\n",
       "      <td>Bitcoin Cash</td>\n",
       "      <td>2018-02-05</td>\n",
       "      <td>4</td>\n",
       "      <td>1159.890000</td>\n",
       "      <td>1172.700000</td>\n",
       "      <td>839.950000</td>\n",
       "      <td>887.410000</td>\n",
       "      <td>568117000</td>\n",
       "      <td>19659800000</td>\n",
       "      <td>0.1426</td>\n",
       "      <td>332.75</td>\n",
       "    </tr>\n",
       "    <tr>\n",
       "      <th>4631</th>\n",
       "      <td>cardano</td>\n",
       "      <td>ADA</td>\n",
       "      <td>Cardano</td>\n",
       "      <td>2018-02-05</td>\n",
       "      <td>5</td>\n",
       "      <td>0.385044</td>\n",
       "      <td>0.399523</td>\n",
       "      <td>0.319646</td>\n",
       "      <td>0.327371</td>\n",
       "      <td>658548000</td>\n",
       "      <td>9983060000</td>\n",
       "      <td>0.0967</td>\n",
       "      <td>0.08</td>\n",
       "    </tr>\n",
       "  </tbody>\n",
       "</table>\n",
       "</div>"
      ],
      "text/plain": [
       "              slug symbol          name       date  ranknow         open  \\\n",
       "1744       bitcoin    BTC       Bitcoin 2018-02-05        1  8270.540000   \n",
       "2658      ethereum    ETH      Ethereum 2018-02-05        2   834.960000   \n",
       "4305        ripple    XRP        Ripple 2018-02-05        3     0.825943   \n",
       "4503  bitcoin-cash    BCH  Bitcoin Cash 2018-02-05        4  1159.890000   \n",
       "4631       cardano    ADA       Cardano 2018-02-05        5     0.385044   \n",
       "\n",
       "             high          low        close      volume        market  \\\n",
       "1744  8364.840000  6756.680000  6955.270000  9285290000  139325000000   \n",
       "2658   856.650000   644.600000   697.950000  4269530000   81337400000   \n",
       "4305     0.833866     0.675827     0.691799  1286180000   32219400000   \n",
       "4503  1172.700000   839.950000   887.410000   568117000   19659800000   \n",
       "4631     0.399523     0.319646     0.327371   658548000    9983060000   \n",
       "\n",
       "      close_ratio   spread  \n",
       "1744       0.1235  1608.16  \n",
       "2658       0.2516   212.05  \n",
       "4305       0.1011     0.16  \n",
       "4503       0.1426   332.75  \n",
       "4631       0.0967     0.08  "
      ]
     },
     "execution_count": 9,
     "metadata": {},
     "output_type": "execute_result"
    }
   ],
   "source": [
    "print(\"Latest crypto data\")\n",
    "latest_df = df[df['date'] == max(df['date'])]\n",
    "latest_df.head()"
   ]
  },
  {
   "cell_type": "markdown",
   "metadata": {},
   "source": [
    "listing currencies"
   ]
  },
  {
   "cell_type": "code",
   "execution_count": 10,
   "metadata": {},
   "outputs": [
    {
     "name": "stdout",
     "output_type": "stream",
     "text": [
      "Number of cryptocurrencies listed: \n"
     ]
    },
    {
     "data": {
      "text/plain": [
       "1461"
      ]
     },
     "execution_count": 10,
     "metadata": {},
     "output_type": "execute_result"
    }
   ],
   "source": [
    "print(\"Number of cryptocurrencies listed: \")\n",
    "latest_df['symbol'].nunique()"
   ]
  },
  {
   "cell_type": "markdown",
   "metadata": {},
   "source": []
  }
 ],
 "metadata": {
  "interpreter": {
   "hash": "23174ef519348cdc2015f1847cd7bae42e4eaad09a4c300c5c94c173470ec3ef"
  },
  "kernelspec": {
   "display_name": "Python 3.9.12 64-bit (windows store)",
   "language": "python",
   "name": "python3"
  },
  "language_info": {
   "codemirror_mode": {
    "name": "ipython",
    "version": 3
   },
   "file_extension": ".py",
   "mimetype": "text/x-python",
   "name": "python",
   "nbconvert_exporter": "python",
   "pygments_lexer": "ipython3",
   "version": "3.9.13"
  },
  "orig_nbformat": 4
 },
 "nbformat": 4,
 "nbformat_minor": 2
}
